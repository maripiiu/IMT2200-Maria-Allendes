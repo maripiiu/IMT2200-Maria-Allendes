{
 "cells": [
  {
   "cell_type": "markdown",
   "id": "4d1d69b2-7b4c-4824-bb50-b82a255eb1fd",
   "metadata": {},
   "source": [
    "# Tasasvasv"
   ]
  },
  {
   "cell_type": "markdown",
   "id": "8821eb5b-ca0d-41e4-936e-3489d54b712a",
   "metadata": {
    "jp-MarkdownHeadingCollapsed": true
   },
   "source": [
    "## dsdsdvsdvsdv"
   ]
  },
  {
   "cell_type": "code",
   "execution_count": null,
   "id": "644cbb30-3451-4d58-a4af-49da4f373a42",
   "metadata": {},
   "outputs": [],
   "source": [
    "j = \"Jorge\""
   ]
  },
  {
   "cell_type": "markdown",
   "id": "441b3cfa-c77e-43e4-bd66-82da2b3a7fd8",
   "metadata": {},
   "source": [
    "### Funcion Jorge"
   ]
  },
  {
   "cell_type": "code",
   "execution_count": null,
   "id": "c7a408ea-8fa7-41d8-89bd-146724fa5783",
   "metadata": {},
   "outputs": [],
   "source": [
    "def jorge(s):\n",
    "    print(s)"
   ]
  },
  {
   "cell_type": "code",
   "execution_count": null,
   "id": "8d1bf389-8548-47bd-ba9a-966a22fca9b0",
   "metadata": {},
   "outputs": [],
   "source": []
  },
  {
   "cell_type": "code",
   "execution_count": null,
   "id": "300c62bf-e010-4c64-9701-24f0a6660a4f",
   "metadata": {},
   "outputs": [],
   "source": []
  },
  {
   "cell_type": "markdown",
   "id": "c885506e-2366-42d2-bca7-5011ef74b50e",
   "metadata": {},
   "source": [
    "## sec 2"
   ]
  },
  {
   "cell_type": "code",
   "execution_count": null,
   "id": "60aaecc3-d4fc-4b72-9864-23fd7928d260",
   "metadata": {},
   "outputs": [],
   "source": []
  },
  {
   "cell_type": "code",
   "execution_count": null,
   "id": "50b2f290-0e72-4a43-86b6-8c6659c40ee5",
   "metadata": {},
   "outputs": [],
   "source": []
  },
  {
   "cell_type": "code",
   "execution_count": null,
   "id": "b6c330dc-11d5-45bb-88bd-82aecb03648a",
   "metadata": {},
   "outputs": [],
   "source": []
  },
  {
   "cell_type": "code",
   "execution_count": null,
   "id": "d1c0a986-0b65-4ba1-8d1b-7787997879f6",
   "metadata": {},
   "outputs": [],
   "source": []
  },
  {
   "cell_type": "code",
   "execution_count": null,
   "id": "874575f9-edfc-441a-9373-10e980091e9b",
   "metadata": {},
   "outputs": [],
   "source": []
  },
  {
   "cell_type": "code",
   "execution_count": null,
   "id": "6cee8248-d34b-4ef0-b0ea-19b690120a9c",
   "metadata": {},
   "outputs": [],
   "source": []
  }
 ],
 "metadata": {
  "kernelspec": {
   "display_name": "Python [conda env:base] *",
   "language": "python",
   "name": "conda-base-py"
  },
  "language_info": {
   "codemirror_mode": {
    "name": "ipython",
    "version": 3
   },
   "file_extension": ".py",
   "mimetype": "text/x-python",
   "name": "python",
   "nbconvert_exporter": "python",
   "pygments_lexer": "ipython3",
   "version": "3.13.5"
  }
 },
 "nbformat": 4,
 "nbformat_minor": 5
}
