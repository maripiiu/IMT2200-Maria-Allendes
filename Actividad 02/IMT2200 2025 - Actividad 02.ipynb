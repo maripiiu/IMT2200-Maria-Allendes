{
 "cells": [
  {
   "cell_type": "markdown",
   "id": "a6311079",
   "metadata": {},
   "source": [
    "# <img style=\"float: left; padding-right: 20px; width: 200px\" src=\"https://raw.githubusercontent.com/raxlab/imt2200-data/main/media/logo.jpg\">  IMT 2200 - Introducción a Ciencia de Datos\n",
    "**Pontificia Universidad Católica de Chile**<br>\n",
    "**Instituto de Ingeniería Matemática y Computacional**<br>\n",
    "**Semestre 2025-S2**<br>\n",
    "**Profesor:** Rodrigo A. Carrasco <br>"
   ]
  },
  {
   "cell_type": "markdown",
   "id": "5ea9347c",
   "metadata": {},
   "source": [
    "# <h1><center>Actividad 02: Extracción y Revisión de Datos</center></h1>\n",
    "\n",
    "Esta actividad busca aplicar lo que acabamos de ver en clases sobre extracción de datos y conectarlo con la materia de \"Tipos de Datos\" que hemos visto en las clases pasadas."
   ]
  },
  {
   "cell_type": "markdown",
   "id": "a2c54596",
   "metadata": {},
   "source": [
    "## Instrucciones\n",
    "\n",
    "Esto Notebook contiene las instrucciones a realizar para la actividad. \n",
    "\n",
    "<b>Al finalizarla, deben subir el Notebook y los archivos generados en un único archivo .zip, al módulo de la Actividad 02 en Canvas.</b>\n",
    "\n",
    "Para esta actividad deben hacer lo siguiente:\n",
    "<ol>\n",
    "<li>Extraer datos</li>\n",
    "\n",
    "Para esta actividad usaremos [**PokeAPI**](https://pokeapi.co/about), una interfaz de código abierto con información detallada relacionada a los videojuegos de Pokémon.\n",
    "    \n",
    "En esta actividad nos concentraremos en comparar las características básicas de los 151 pokémon originales. Para obtener la información de un pokémon, utilizaremos el siguiente URL:\n",
    "\n",
    "```\n",
    "https://pokeapi.co/api/v2/pokemon/{id_pokemon}\n",
    "```\n",
    "\n",
    "Donde `{id_pokemon}` es el identificador del pokémon (un número entero). \n",
    "    \n",
    "<br>\n",
    "\n",
    "<li>Formato</li>\n",
    "\n",
    "¿En qué formato están los datos descargados? Identifique si son datos estructurados, semi-estructurados o no estructurados, explicando claramente por qué los categoriza así.\n",
    "\n",
    "<br>\n",
    "    \n",
    "<li>DataFrame de análisis</li>\n",
    "\n",
    "Construya un DataFrame con al menos las siguientes columnas: `name, type1, type2, hp, attack, defense, special-attack, special-defense, speed`. En caso de que un pokémon tenga solo un tipo, puede dejar su atributo `type2 = None`. Guarde este nuevo set de datos en un archivo CSV.\n",
    "\n",
    "**Hint:** Inspeccione el atributo `stats` y `types` de las respuestas obtenidas. El valor que debe almacenar en el DataFrame estará bajó el nombre `base_stat`.\n",
    "    \n",
    "<br>\n",
    "    \n",
    "<li>Preguntas</li>\n",
    "\n",
    "A partir de su nuevo dataset, responda las siguientes preguntas:\n",
    "\n",
    "4.1 ¿Cuál son los 3 tipos (fuego, agua, tierra, etc.) más comunes en los pokémones de la primera generación?\n",
    "    \n",
    "4.2 ¿Cuál es el pokémon más rápido? ¿Y el más lento?\n",
    "\n",
    "4.3 Genere una nueva columna en el DataFrame llamada `total-stats` que consista en la suma de todos los stats de un pokémon (`hp, attack, defense, special-attack, special-defense, speed`) y grafique un histograma de esta nueva variable. ¿Cuál es el rango de valores"
   ]
  },
  {
   "cell_type": "markdown",
   "id": "f66e4487",
   "metadata": {},
   "source": [
    "## Rúbrica\n",
    "\n",
    "- Si han hecho todo y sólo hay errores menores: 7.0\n",
    "- Si sólo llegaron hasta la parte 3: 5.0\n",
    "- Menos que eso: 1.0"
   ]
  },
  {
   "cell_type": "markdown",
   "id": "c6494636",
   "metadata": {},
   "source": [
    "## 1. Extraer datos\n",
    "\n",
    "Utilizando el URL indicado en el enunciado, obtenga la información de los primeros 151 pokémones y guárdelos en una lista llamada `pokemones`. \n",
    "\n",
    "Para ello debe usar un `for` que itere sobre los diferentes IDs de pokemon y rescate la información de cada uno de ellos, concatenándola en una lista. Antes de iterar sobre los 151 pokemones, pruebe con 1 o 2 y una vez que verifique que su código está funcionando, aplique a los 151 primeros pokemones."
   ]
  },
  {
   "cell_type": "code",
   "execution_count": null,
   "id": "c92f4791",
   "metadata": {},
   "outputs": [],
   "source": [
    "import requests\n"
   ]
  },
  {
   "cell_type": "code",
   "execution_count": null,
   "id": "1b24d932",
   "metadata": {},
   "outputs": [],
   "source": []
  },
  {
   "cell_type": "code",
   "execution_count": null,
   "id": "c21068e6",
   "metadata": {},
   "outputs": [],
   "source": []
  },
  {
   "cell_type": "code",
   "execution_count": null,
   "id": "976637c7",
   "metadata": {},
   "outputs": [],
   "source": []
  },
  {
   "cell_type": "markdown",
   "id": "fc8f49d7",
   "metadata": {},
   "source": [
    "## 2. Formato de datos\n",
    "\n",
    "Revise la lista que almacenó en `pokemones` y coméntenos en qué formato están los datos y qué tipos de datos serían estos (estructurados, semi-estructurados, no estructurados).\n",
    "\n",
    "Respuesta:"
   ]
  },
  {
   "cell_type": "markdown",
   "id": "c5b09ba8",
   "metadata": {},
   "source": []
  },
  {
   "cell_type": "markdown",
   "id": "ff451ed0",
   "metadata": {},
   "source": [
    "## 3. DataFrame de análisis\n",
    "\n",
    "Construya ahor un DataFrame para poder analizar los datos posteriormente. Revise las columnas mínimas que debe tener según el enunciado inicial."
   ]
  },
  {
   "cell_type": "code",
   "execution_count": null,
   "id": "facecb52",
   "metadata": {},
   "outputs": [],
   "source": [
    "import pandas as pd\n",
    "\n"
   ]
  },
  {
   "cell_type": "code",
   "execution_count": null,
   "id": "79aa81ff",
   "metadata": {},
   "outputs": [],
   "source": []
  },
  {
   "cell_type": "code",
   "execution_count": null,
   "id": "eecd1cbc",
   "metadata": {},
   "outputs": [],
   "source": []
  },
  {
   "cell_type": "markdown",
   "id": "afeb0222",
   "metadata": {},
   "source": [
    "## 4. Preguntas"
   ]
  },
  {
   "cell_type": "markdown",
   "id": "5e1dd5c3",
   "metadata": {},
   "source": [
    "#### 4.1 ¿Cuál son los 3 tipos (*water, fire, ground,* etc.) más comunes en los pokémones de la primera generación?"
   ]
  },
  {
   "cell_type": "code",
   "execution_count": null,
   "id": "5c12a705",
   "metadata": {},
   "outputs": [],
   "source": []
  },
  {
   "cell_type": "code",
   "execution_count": null,
   "id": "d8ef9d4b",
   "metadata": {},
   "outputs": [],
   "source": []
  },
  {
   "cell_type": "markdown",
   "id": "16247f38",
   "metadata": {},
   "source": [
    "El tipo más común es:"
   ]
  },
  {
   "cell_type": "markdown",
   "id": "584f524f",
   "metadata": {},
   "source": [
    "#### 4.2 ¿Cuál es el pokémon más rápido? ¿Y el más lento?"
   ]
  },
  {
   "cell_type": "code",
   "execution_count": null,
   "id": "1cb9fb99",
   "metadata": {},
   "outputs": [],
   "source": []
  },
  {
   "cell_type": "markdown",
   "id": "9940aedb",
   "metadata": {},
   "source": [
    "El pokémon más rápido es:"
   ]
  },
  {
   "cell_type": "markdown",
   "id": "3212213a",
   "metadata": {},
   "source": [
    "#### 4.3 Genere una nueva columna en el DataFrame llamada `total-stats` que consista en la suma de todos los stats de un pokémon (`hp, attack, defense, special-attack, special-defense, speed`) ¿Cuáles son los valores mínimo y máximo de esta nueva variable?"
   ]
  },
  {
   "cell_type": "code",
   "execution_count": null,
   "id": "b54b12d1",
   "metadata": {},
   "outputs": [],
   "source": []
  },
  {
   "cell_type": "markdown",
   "id": "b7f34ada",
   "metadata": {},
   "source": [
    "El valor máximo lo tiene:\n",
    "\n",
    "y el mínimo lo tiene:"
   ]
  },
  {
   "cell_type": "markdown",
   "id": "e098861c",
   "metadata": {},
   "source": [
    "#### 4.4 Grafique un histograma de `total-stats` y comente brevemente lo que observa de la distribución de este atributo."
   ]
  },
  {
   "cell_type": "code",
   "execution_count": null,
   "id": "74fab9f7",
   "metadata": {},
   "outputs": [],
   "source": [
    "import matplotlib.pyplot as plt\n"
   ]
  },
  {
   "cell_type": "markdown",
   "id": "e8ab882d",
   "metadata": {},
   "source": [
    "Descripción:"
   ]
  }
 ],
 "metadata": {
  "kernelspec": {
   "display_name": "Python 3 (ipykernel)",
   "language": "python",
   "name": "python3"
  },
  "language_info": {
   "codemirror_mode": {
    "name": "ipython",
    "version": 3
   },
   "file_extension": ".py",
   "mimetype": "text/x-python",
   "name": "python",
   "nbconvert_exporter": "python",
   "pygments_lexer": "ipython3",
   "version": "3.11.5"
  }
 },
 "nbformat": 4,
 "nbformat_minor": 5
}
