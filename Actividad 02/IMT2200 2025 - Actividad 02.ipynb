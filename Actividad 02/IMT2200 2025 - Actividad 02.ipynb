{
 "cells": [
  {
   "cell_type": "markdown",
   "id": "a6311079",
   "metadata": {},
   "source": [
    "# <img style=\"float: left; padding-right: 20px; width: 200px\" src=\"https://raw.githubusercontent.com/raxlab/imt2200-data/main/media/logo.jpg\">  IMT 2200 - Introducción a Ciencia de Datos\n",
    "**Pontificia Universidad Católica de Chile**<br>\n",
    "**Instituto de Ingeniería Matemática y Computacional**<br>\n",
    "**Semestre 2025-S2**<br>\n",
    "**Profesor:** Rodrigo A. Carrasco <br>"
   ]
  },
  {
   "cell_type": "markdown",
   "id": "5ea9347c",
   "metadata": {},
   "source": [
    "# <h1><center>Actividad 02: Extracción y Revisión de Datos</center></h1>\n",
    "\n",
    "Esta actividad busca aplicar lo que acabamos de ver en clases sobre extracción de datos y conectarlo con la materia de \"Tipos de Datos\" que hemos visto en las clases pasadas."
   ]
  },
  {
   "cell_type": "markdown",
   "id": "a2c54596",
   "metadata": {},
   "source": [
    "## Instrucciones\n",
    "\n",
    "Esto Notebook contiene las instrucciones a realizar para la actividad. \n",
    "\n",
    "<b>Al finalizarla, deben subir el Notebook y los archivos generados en un único archivo .zip, al módulo de la Actividad 02 en Canvas.</b>\n",
    "\n",
    "Para esta actividad deben hacer lo siguiente:\n",
    "<ol>\n",
    "<li>Extraer datos</li>\n",
    "\n",
    "Para esta actividad usaremos [**PokeAPI**](https://pokeapi.co/about), una interfaz de código abierto con información detallada relacionada a los videojuegos de Pokémon.\n",
    "    \n",
    "En esta actividad nos concentraremos en comparar las características básicas de los 151 pokémon originales. Para obtener la información de un pokémon, utilizaremos el siguiente URL:\n",
    "\n",
    "```\n",
    "https://pokeapi.co/api/v2/pokemon/{id_pokemon}\n",
    "```\n",
    "\n",
    "Donde `{id_pokemon}` es el identificador del pokémon (un número entero). \n",
    "    \n",
    "<br>\n",
    "\n",
    "<li>Formato</li>\n",
    "\n",
    "¿En qué formato están los datos descargados? Identifique si son datos estructurados, semi-estructurados o no estructurados, explicando claramente por qué los categoriza así.\n",
    "\n",
    "<br>\n",
    "    \n",
    "<li>DataFrame de análisis</li>\n",
    "\n",
    "Construya un DataFrame con al menos las siguientes columnas: `name, type1, type2, hp, attack, defense, special-attack, special-defense, speed`. En caso de que un pokémon tenga solo un tipo, puede dejar su atributo `type2 = None`. Guarde este nuevo set de datos en un archivo CSV.\n",
    "\n",
    "**Hint:** Inspeccione el atributo `stats` y `types` de las respuestas obtenidas. El valor que debe almacenar en el DataFrame estará bajó el nombre `base_stat`.\n",
    "    \n",
    "<br>\n",
    "    \n",
    "<li>Preguntas</li>\n",
    "\n",
    "A partir de su nuevo dataset, responda las siguientes preguntas:\n",
    "\n",
    "4.1 ¿Cuál son los 3 tipos (fuego, agua, tierra, etc.) más comunes en los pokémones de la primera generación?\n",
    "    \n",
    "4.2 ¿Cuál es el pokémon más rápido? ¿Y el más lento?\n",
    "\n",
    "4.3 Genere una nueva columna en el DataFrame llamada `total-stats` que consista en la suma de todos los stats de un pokémon (`hp, attack, defense, special-attack, special-defense, speed`) y grafique un histograma de esta nueva variable. ¿Cuál es el rango de valores"
   ]
  },
  {
   "cell_type": "markdown",
   "id": "f66e4487",
   "metadata": {},
   "source": [
    "## Rúbrica\n",
    "\n",
    "- Si han hecho todo y sólo hay errores menores: 7.0\n",
    "- Si sólo llegaron hasta la parte 3: 5.0\n",
    "- Menos que eso: 1.0"
   ]
  },
  {
   "cell_type": "markdown",
   "id": "c6494636",
   "metadata": {},
   "source": [
    "## 1. Extraer datos\n",
    "\n",
    "Utilizando el URL indicado en el enunciado, obtenga la información de los primeros 151 pokémones y guárdelos en una lista llamada `pokemones`. \n",
    "\n",
    "Para ello debe usar un `for` que itere sobre los diferentes IDs de pokemon y rescate la información de cada uno de ellos, concatenándola en una lista. Antes de iterar sobre los 151 pokemones, pruebe con 1 o 2 y una vez que verifique que su código está funcionando, aplique a los 151 primeros pokemones."
   ]
  },
  {
   "cell_type": "code",
   "execution_count": 52,
   "id": "c92f4791",
   "metadata": {},
   "outputs": [],
   "source": [
    "import requests\n",
    "from pathlib import Path\n",
    "import pandas as pd"
   ]
  },
  {
   "cell_type": "code",
   "execution_count": 53,
   "id": "1b24d932",
   "metadata": {},
   "outputs": [],
   "source": [
    "base_url = \"https://pokeapi.co/api/v2/pokemon/\"\n",
    "pokemons_data = []\n",
    "#151 pokemones en total!\n",
    "for i in range(1,3):  \n",
    "    url = base_url + str(i) + \"/\"\n",
    "    r = requests.get(url)\n",
    "    data = r.json()\n",
    "    \n",
    "    # Nombre\n",
    "    name = data[\"name\"]\n",
    "    \n",
    "    # Tipos\n",
    "    types = data[\"types\"]\n",
    "    type1 = types[0][\"type\"][\"name\"]\n",
    "    if len(types) > 1:\n",
    "        type2 = types[1][\"type\"][\"name\"] \n",
    "    else:\n",
    "        None\n",
    "    \n",
    "    # Stats\n",
    "    # Crear diccionario\n",
    "    pokemon_info = {\n",
    "        \"name\": name,\n",
    "        \"type1\": type1,\n",
    "        \"type2\": type2,\n",
    "        \"hp\": stats[\"hp\"],\n",
    "        \"attack\": stats[\"attack\"],\n",
    "        \"defense\": stats[\"defense\"],\n",
    "        \"special-attack\": stats[\"special-attack\"],\n",
    "        \"special-defense\": stats[\"special-defense\"],\n",
    "        \"speed\": stats[\"speed\"]\n",
    "    }\n",
    "    \n",
    "    pokemons_data.append(pokemon_info)"
   ]
  },
  {
   "cell_type": "markdown",
   "id": "fc8f49d7",
   "metadata": {},
   "source": [
    "## 2. Formato de datos\n",
    "\n",
    "Revise la lista que almacenó en `pokemones` y coméntenos en qué formato están los datos y qué tipos de datos serían estos (estructurados, semi-estructurados, no estructurados).\n",
    "\n",
    "Respuesta:"
   ]
  },
  {
   "cell_type": "markdown",
   "id": "c5b09ba8",
   "metadata": {},
   "source": [
    "Los datos están en un url en donde encontramos formato json siendo datos semi-estructurados"
   ]
  },
  {
   "cell_type": "markdown",
   "id": "ff451ed0",
   "metadata": {},
   "source": [
    "## 3. DataFrame de análisis\n",
    "\n",
    "Construya ahor un DataFrame para poder analizar los datos posteriormente. Revise las columnas mínimas que debe tener según el enunciado inicial."
   ]
  },
  {
   "cell_type": "code",
   "execution_count": 54,
   "id": "eecd1cbc",
   "metadata": {},
   "outputs": [],
   "source": [
    "import requests\n",
    "import pandas as pd"
   ]
  },
  {
   "cell_type": "code",
   "execution_count": 55,
   "id": "a3f9b84e-ef6d-45ed-aad2-c471669d9bf8",
   "metadata": {},
   "outputs": [
    {
     "data": {
      "text/html": [
       "<div>\n",
       "<style scoped>\n",
       "    .dataframe tbody tr th:only-of-type {\n",
       "        vertical-align: middle;\n",
       "    }\n",
       "\n",
       "    .dataframe tbody tr th {\n",
       "        vertical-align: top;\n",
       "    }\n",
       "\n",
       "    .dataframe thead th {\n",
       "        text-align: right;\n",
       "    }\n",
       "</style>\n",
       "<table border=\"1\" class=\"dataframe\">\n",
       "  <thead>\n",
       "    <tr style=\"text-align: right;\">\n",
       "      <th></th>\n",
       "      <th>name</th>\n",
       "      <th>type1</th>\n",
       "      <th>type2</th>\n",
       "      <th>hp</th>\n",
       "      <th>attack</th>\n",
       "      <th>defense</th>\n",
       "      <th>special-attack</th>\n",
       "      <th>special-defense</th>\n",
       "      <th>speed</th>\n",
       "    </tr>\n",
       "  </thead>\n",
       "  <tbody>\n",
       "    <tr>\n",
       "      <th>0</th>\n",
       "      <td>bulbasaur</td>\n",
       "      <td>grass</td>\n",
       "      <td>poison</td>\n",
       "      <td>60</td>\n",
       "      <td>62</td>\n",
       "      <td>63</td>\n",
       "      <td>80</td>\n",
       "      <td>80</td>\n",
       "      <td>60</td>\n",
       "    </tr>\n",
       "    <tr>\n",
       "      <th>1</th>\n",
       "      <td>ivysaur</td>\n",
       "      <td>grass</td>\n",
       "      <td>poison</td>\n",
       "      <td>60</td>\n",
       "      <td>62</td>\n",
       "      <td>63</td>\n",
       "      <td>80</td>\n",
       "      <td>80</td>\n",
       "      <td>60</td>\n",
       "    </tr>\n",
       "  </tbody>\n",
       "</table>\n",
       "</div>"
      ],
      "text/plain": [
       "        name  type1   type2  hp  attack  defense  special-attack  \\\n",
       "0  bulbasaur  grass  poison  60      62       63              80   \n",
       "1    ivysaur  grass  poison  60      62       63              80   \n",
       "\n",
       "   special-defense  speed  \n",
       "0               80     60  \n",
       "1               80     60  "
      ]
     },
     "execution_count": 55,
     "metadata": {},
     "output_type": "execute_result"
    }
   ],
   "source": [
    "# Crear DataFrame\n",
    "pokemon_df = pd.DataFrame(pokemons_data)\n",
    "pokemon_df.to_csv(\"pokemon_stats.csv\", index=False, encoding=\"utf-8\")\n",
    "pokemon_df.head()"
   ]
  },
  {
   "cell_type": "markdown",
   "id": "afeb0222",
   "metadata": {},
   "source": [
    "## 4. Preguntas"
   ]
  },
  {
   "cell_type": "markdown",
   "id": "5e1dd5c3",
   "metadata": {},
   "source": [
    "#### 4.1 ¿Cuál son los 3 tipos (*water, fire, ground,* etc.) más comunes en los pokémones de la primera generación?"
   ]
  },
  {
   "cell_type": "code",
   "execution_count": null,
   "id": "5c12a705",
   "metadata": {},
   "outputs": [],
   "source": []
  },
  {
   "cell_type": "code",
   "execution_count": null,
   "id": "d8ef9d4b",
   "metadata": {},
   "outputs": [],
   "source": []
  },
  {
   "cell_type": "markdown",
   "id": "16247f38",
   "metadata": {},
   "source": [
    "El tipo más común es:"
   ]
  },
  {
   "cell_type": "markdown",
   "id": "584f524f",
   "metadata": {},
   "source": [
    "#### 4.2 ¿Cuál es el pokémon más rápido? ¿Y el más lento?"
   ]
  },
  {
   "cell_type": "code",
   "execution_count": 56,
   "id": "1cb9fb99",
   "metadata": {},
   "outputs": [
    {
     "data": {
      "text/html": [
       "<div>\n",
       "<style scoped>\n",
       "    .dataframe tbody tr th:only-of-type {\n",
       "        vertical-align: middle;\n",
       "    }\n",
       "\n",
       "    .dataframe tbody tr th {\n",
       "        vertical-align: top;\n",
       "    }\n",
       "\n",
       "    .dataframe thead th {\n",
       "        text-align: right;\n",
       "    }\n",
       "</style>\n",
       "<table border=\"1\" class=\"dataframe\">\n",
       "  <thead>\n",
       "    <tr style=\"text-align: right;\">\n",
       "      <th></th>\n",
       "      <th>name</th>\n",
       "      <th>type1</th>\n",
       "      <th>type2</th>\n",
       "      <th>hp</th>\n",
       "      <th>attack</th>\n",
       "      <th>defense</th>\n",
       "      <th>special-attack</th>\n",
       "      <th>special-defense</th>\n",
       "      <th>speed</th>\n",
       "    </tr>\n",
       "  </thead>\n",
       "  <tbody>\n",
       "    <tr>\n",
       "      <th>0</th>\n",
       "      <td>bulbasaur</td>\n",
       "      <td>grass</td>\n",
       "      <td>poison</td>\n",
       "      <td>60</td>\n",
       "      <td>62</td>\n",
       "      <td>63</td>\n",
       "      <td>80</td>\n",
       "      <td>80</td>\n",
       "      <td>60</td>\n",
       "    </tr>\n",
       "    <tr>\n",
       "      <th>1</th>\n",
       "      <td>ivysaur</td>\n",
       "      <td>grass</td>\n",
       "      <td>poison</td>\n",
       "      <td>60</td>\n",
       "      <td>62</td>\n",
       "      <td>63</td>\n",
       "      <td>80</td>\n",
       "      <td>80</td>\n",
       "      <td>60</td>\n",
       "    </tr>\n",
       "  </tbody>\n",
       "</table>\n",
       "</div>"
      ],
      "text/plain": [
       "        name  type1   type2  hp  attack  defense  special-attack  \\\n",
       "0  bulbasaur  grass  poison  60      62       63              80   \n",
       "1    ivysaur  grass  poison  60      62       63              80   \n",
       "\n",
       "   special-defense  speed  \n",
       "0               80     60  \n",
       "1               80     60  "
      ]
     },
     "execution_count": 56,
     "metadata": {},
     "output_type": "execute_result"
    }
   ],
   "source": [
    "pokemon_df.sort_values(\"speed\", ascending = False)"
   ]
  },
  {
   "cell_type": "markdown",
   "id": "9940aedb",
   "metadata": {},
   "source": [
    "El pokémon más rápido es: \"Electrode\""
   ]
  },
  {
   "cell_type": "markdown",
   "id": "3212213a",
   "metadata": {},
   "source": [
    "#### 4.3 Genere una nueva columna en el DataFrame llamada `total-stats` que consista en la suma de todos los stats de un pokémon (`hp, attack, defense, special-attack, special-defense, speed`) ¿Cuáles son los valores mínimo y máximo de esta nueva variable?"
   ]
  },
  {
   "cell_type": "code",
   "execution_count": 57,
   "id": "b54b12d1",
   "metadata": {},
   "outputs": [
    {
     "ename": "SyntaxError",
     "evalue": "invalid syntax (304044635.py, line 1)",
     "output_type": "error",
     "traceback": [
      "  \u001b[36mCell\u001b[39m\u001b[36m \u001b[39m\u001b[32mIn[57]\u001b[39m\u001b[32m, line 1\u001b[39m\n\u001b[31m    \u001b[39m\u001b[31mpokemon_df[\"total-stats\"] =\u001b[39m\n                                ^\n\u001b[31mSyntaxError\u001b[39m\u001b[31m:\u001b[39m invalid syntax\n"
     ]
    }
   ],
   "source": [
    "pokemon_df[\"total-stats\"] = "
   ]
  },
  {
   "cell_type": "markdown",
   "id": "b7f34ada",
   "metadata": {},
   "source": [
    "El valor máximo lo tiene:\n",
    "\n",
    "y el mínimo lo tiene:"
   ]
  },
  {
   "cell_type": "markdown",
   "id": "e098861c",
   "metadata": {},
   "source": [
    "#### 4.4 Grafique un histograma de `total-stats` y comente brevemente lo que observa de la distribución de este atributo."
   ]
  },
  {
   "cell_type": "code",
   "execution_count": null,
   "id": "74fab9f7",
   "metadata": {},
   "outputs": [],
   "source": [
    "import matplotlib.pyplot as plt\n"
   ]
  },
  {
   "cell_type": "markdown",
   "id": "e8ab882d",
   "metadata": {},
   "source": [
    "Descripción:"
   ]
  }
 ],
 "metadata": {
  "kernelspec": {
   "display_name": "Python 3 (ipykernel)",
   "language": "python",
   "name": "python3"
  },
  "language_info": {
   "codemirror_mode": {
    "name": "ipython",
    "version": 3
   },
   "file_extension": ".py",
   "mimetype": "text/x-python",
   "name": "python",
   "nbconvert_exporter": "python",
   "pygments_lexer": "ipython3",
   "version": "3.13.5"
  }
 },
 "nbformat": 4,
 "nbformat_minor": 5
}
